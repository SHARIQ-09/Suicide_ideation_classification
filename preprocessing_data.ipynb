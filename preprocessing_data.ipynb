{
 "cells": [
  {
   "cell_type": "code",
   "execution_count": 1,
   "id": "6f6069e7-dae4-45b7-898d-87e0b0f56cdc",
   "metadata": {},
   "outputs": [],
   "source": [
    "\n",
    "import tensorflow as tf\n",
    "import pandas as pd\n",
    "import spacy\n",
    "from symspellpy import SymSpell, Verbosity\n",
    "import collections\n",
    "import importlib.resources as pkg_resources\n",
    "import unidecode\n",
    "import contractions as contract\n",
    "import re\n",
    "import importlib\n",
    "import tensorflow as tf"
   ]
  },
  {
   "cell_type": "code",
   "execution_count": 2,
   "id": "fd29ffbd-9dcd-425b-a598-bde805adfdd6",
   "metadata": {},
   "outputs": [],
   "source": [
    "data = pd.read_csv(\"Suicide_Detection.csv/Suicide_Detection.csv\")"
   ]
  },
  {
   "cell_type": "code",
   "execution_count": 3,
   "id": "7f058182-2b17-4680-9300-f12802599aef",
   "metadata": {},
   "outputs": [
    {
     "data": {
      "text/html": [
       "<div>\n",
       "<style scoped>\n",
       "    .dataframe tbody tr th:only-of-type {\n",
       "        vertical-align: middle;\n",
       "    }\n",
       "\n",
       "    .dataframe tbody tr th {\n",
       "        vertical-align: top;\n",
       "    }\n",
       "\n",
       "    .dataframe thead th {\n",
       "        text-align: right;\n",
       "    }\n",
       "</style>\n",
       "<table border=\"1\" class=\"dataframe\">\n",
       "  <thead>\n",
       "    <tr style=\"text-align: right;\">\n",
       "      <th></th>\n",
       "      <th>Unnamed: 0</th>\n",
       "      <th>text</th>\n",
       "      <th>class</th>\n",
       "    </tr>\n",
       "  </thead>\n",
       "  <tbody>\n",
       "    <tr>\n",
       "      <th>0</th>\n",
       "      <td>2</td>\n",
       "      <td>Ex Wife Threatening SuicideRecently I left my ...</td>\n",
       "      <td>suicide</td>\n",
       "    </tr>\n",
       "    <tr>\n",
       "      <th>1</th>\n",
       "      <td>3</td>\n",
       "      <td>Am I weird I don't get affected by compliments...</td>\n",
       "      <td>non-suicide</td>\n",
       "    </tr>\n",
       "    <tr>\n",
       "      <th>2</th>\n",
       "      <td>4</td>\n",
       "      <td>Finally 2020 is almost over... So I can never ...</td>\n",
       "      <td>non-suicide</td>\n",
       "    </tr>\n",
       "    <tr>\n",
       "      <th>3</th>\n",
       "      <td>8</td>\n",
       "      <td>i need helpjust help me im crying so hard</td>\n",
       "      <td>suicide</td>\n",
       "    </tr>\n",
       "    <tr>\n",
       "      <th>4</th>\n",
       "      <td>9</td>\n",
       "      <td>I’m so lostHello, my name is Adam (16) and I’v...</td>\n",
       "      <td>suicide</td>\n",
       "    </tr>\n",
       "    <tr>\n",
       "      <th>5</th>\n",
       "      <td>11</td>\n",
       "      <td>Honetly idkI dont know what im even doing here...</td>\n",
       "      <td>suicide</td>\n",
       "    </tr>\n",
       "    <tr>\n",
       "      <th>6</th>\n",
       "      <td>12</td>\n",
       "      <td>[Trigger warning] Excuse for self inflicted bu...</td>\n",
       "      <td>suicide</td>\n",
       "    </tr>\n",
       "    <tr>\n",
       "      <th>7</th>\n",
       "      <td>13</td>\n",
       "      <td>It ends tonight.I can’t do it anymore. \\nI quit.</td>\n",
       "      <td>suicide</td>\n",
       "    </tr>\n",
       "    <tr>\n",
       "      <th>8</th>\n",
       "      <td>16</td>\n",
       "      <td>Everyone wants to be \"edgy\" and it's making me...</td>\n",
       "      <td>non-suicide</td>\n",
       "    </tr>\n",
       "    <tr>\n",
       "      <th>9</th>\n",
       "      <td>18</td>\n",
       "      <td>My life is over at 20 years oldHello all. I am...</td>\n",
       "      <td>suicide</td>\n",
       "    </tr>\n",
       "  </tbody>\n",
       "</table>\n",
       "</div>"
      ],
      "text/plain": [
       "   Unnamed: 0                                               text        class\n",
       "0           2  Ex Wife Threatening SuicideRecently I left my ...      suicide\n",
       "1           3  Am I weird I don't get affected by compliments...  non-suicide\n",
       "2           4  Finally 2020 is almost over... So I can never ...  non-suicide\n",
       "3           8          i need helpjust help me im crying so hard      suicide\n",
       "4           9  I’m so lostHello, my name is Adam (16) and I’v...      suicide\n",
       "5          11  Honetly idkI dont know what im even doing here...      suicide\n",
       "6          12  [Trigger warning] Excuse for self inflicted bu...      suicide\n",
       "7          13   It ends tonight.I can’t do it anymore. \\nI quit.      suicide\n",
       "8          16  Everyone wants to be \"edgy\" and it's making me...  non-suicide\n",
       "9          18  My life is over at 20 years oldHello all. I am...      suicide"
      ]
     },
     "execution_count": 3,
     "metadata": {},
     "output_type": "execute_result"
    }
   ],
   "source": [
    "data.head(10)"
   ]
  },
  {
   "cell_type": "code",
   "execution_count": 4,
   "id": "d56b05ea-b9d9-4a07-98ec-179209b0dfd6",
   "metadata": {},
   "outputs": [
    {
     "data": {
      "text/plain": [
       "(232074, 3)"
      ]
     },
     "execution_count": 4,
     "metadata": {},
     "output_type": "execute_result"
    }
   ],
   "source": [
    "data.shape"
   ]
  },
  {
   "cell_type": "code",
   "execution_count": 5,
   "id": "f7be6b00-4267-4a8b-9b66-ddb435aba2fe",
   "metadata": {},
   "outputs": [],
   "source": [
    "df = data.drop(data.columns[0], axis = 1)"
   ]
  },
  {
   "cell_type": "code",
   "execution_count": 6,
   "id": "ccceaf5f-71c2-4416-84e5-0a080c10804f",
   "metadata": {},
   "outputs": [
    {
     "data": {
      "text/html": [
       "<div>\n",
       "<style scoped>\n",
       "    .dataframe tbody tr th:only-of-type {\n",
       "        vertical-align: middle;\n",
       "    }\n",
       "\n",
       "    .dataframe tbody tr th {\n",
       "        vertical-align: top;\n",
       "    }\n",
       "\n",
       "    .dataframe thead th {\n",
       "        text-align: right;\n",
       "    }\n",
       "</style>\n",
       "<table border=\"1\" class=\"dataframe\">\n",
       "  <thead>\n",
       "    <tr style=\"text-align: right;\">\n",
       "      <th></th>\n",
       "      <th>text</th>\n",
       "      <th>class</th>\n",
       "    </tr>\n",
       "  </thead>\n",
       "  <tbody>\n",
       "    <tr>\n",
       "      <th>0</th>\n",
       "      <td>Ex Wife Threatening SuicideRecently I left my ...</td>\n",
       "      <td>suicide</td>\n",
       "    </tr>\n",
       "    <tr>\n",
       "      <th>1</th>\n",
       "      <td>Am I weird I don't get affected by compliments...</td>\n",
       "      <td>non-suicide</td>\n",
       "    </tr>\n",
       "    <tr>\n",
       "      <th>2</th>\n",
       "      <td>Finally 2020 is almost over... So I can never ...</td>\n",
       "      <td>non-suicide</td>\n",
       "    </tr>\n",
       "    <tr>\n",
       "      <th>3</th>\n",
       "      <td>i need helpjust help me im crying so hard</td>\n",
       "      <td>suicide</td>\n",
       "    </tr>\n",
       "  </tbody>\n",
       "</table>\n",
       "</div>"
      ],
      "text/plain": [
       "                                                text        class\n",
       "0  Ex Wife Threatening SuicideRecently I left my ...      suicide\n",
       "1  Am I weird I don't get affected by compliments...  non-suicide\n",
       "2  Finally 2020 is almost over... So I can never ...  non-suicide\n",
       "3          i need helpjust help me im crying so hard      suicide"
      ]
     },
     "execution_count": 6,
     "metadata": {},
     "output_type": "execute_result"
    }
   ],
   "source": [
    "df.head(4)"
   ]
  },
  {
   "cell_type": "code",
   "execution_count": 7,
   "id": "f283bb98-6797-4bd1-8af3-b088550407d0",
   "metadata": {},
   "outputs": [
    {
     "data": {
      "text/html": [
       "<div>\n",
       "<style scoped>\n",
       "    .dataframe tbody tr th:only-of-type {\n",
       "        vertical-align: middle;\n",
       "    }\n",
       "\n",
       "    .dataframe tbody tr th {\n",
       "        vertical-align: top;\n",
       "    }\n",
       "\n",
       "    .dataframe thead th {\n",
       "        text-align: right;\n",
       "    }\n",
       "</style>\n",
       "<table border=\"1\" class=\"dataframe\">\n",
       "  <thead>\n",
       "    <tr style=\"text-align: right;\">\n",
       "      <th></th>\n",
       "      <th>Unnamed: 0</th>\n",
       "      <th>text</th>\n",
       "      <th>class</th>\n",
       "    </tr>\n",
       "  </thead>\n",
       "  <tbody>\n",
       "    <tr>\n",
       "      <th>0</th>\n",
       "      <td>2</td>\n",
       "      <td>Ex Wife Threatening SuicideRecently I left my ...</td>\n",
       "      <td>suicide</td>\n",
       "    </tr>\n",
       "    <tr>\n",
       "      <th>1</th>\n",
       "      <td>3</td>\n",
       "      <td>Am I weird I don't get affected by compliments...</td>\n",
       "      <td>non-suicide</td>\n",
       "    </tr>\n",
       "    <tr>\n",
       "      <th>2</th>\n",
       "      <td>4</td>\n",
       "      <td>Finally 2020 is almost over... So I can never ...</td>\n",
       "      <td>non-suicide</td>\n",
       "    </tr>\n",
       "    <tr>\n",
       "      <th>3</th>\n",
       "      <td>8</td>\n",
       "      <td>i need helpjust help me im crying so hard</td>\n",
       "      <td>suicide</td>\n",
       "    </tr>\n",
       "    <tr>\n",
       "      <th>4</th>\n",
       "      <td>9</td>\n",
       "      <td>I’m so lostHello, my name is Adam (16) and I’v...</td>\n",
       "      <td>suicide</td>\n",
       "    </tr>\n",
       "  </tbody>\n",
       "</table>\n",
       "</div>"
      ],
      "text/plain": [
       "   Unnamed: 0                                               text        class\n",
       "0           2  Ex Wife Threatening SuicideRecently I left my ...      suicide\n",
       "1           3  Am I weird I don't get affected by compliments...  non-suicide\n",
       "2           4  Finally 2020 is almost over... So I can never ...  non-suicide\n",
       "3           8          i need helpjust help me im crying so hard      suicide\n",
       "4           9  I’m so lostHello, my name is Adam (16) and I’v...      suicide"
      ]
     },
     "execution_count": 7,
     "metadata": {},
     "output_type": "execute_result"
    }
   ],
   "source": [
    "data.head(5)"
   ]
  },
  {
   "cell_type": "markdown",
   "id": "7d109cba-0005-4c2f-8f0d-450524e7cbca",
   "metadata": {},
   "source": [
    "# Data preprocessing"
   ]
  },
  {
   "cell_type": "code",
   "execution_count": null,
   "id": "79edbaf6-28aa-4399-8a70-56a33359395d",
   "metadata": {},
   "outputs": [],
   "source": []
  },
  {
   "cell_type": "code",
   "execution_count": 8,
   "id": "309cf6b9-1518-4ce8-b2d5-6da3704e0f03",
   "metadata": {},
   "outputs": [
    {
     "data": {
      "text/plain": [
       "True"
      ]
     },
     "execution_count": 8,
     "metadata": {},
     "output_type": "execute_result"
    }
   ],
   "source": [
    "# Defining methods\n",
    "\n",
    "nlp = spacy.load(\"en_core_web_sm\") \n",
    "\n",
    "vocab = collections.Counter()\n",
    "\n",
    "sym_spell = SymSpell(max_dictionary_edit_distance=2, prefix_length=7)\n",
    "\n",
    "#dictionary_path = importlib.resources_filename(\n",
    "#    \"symspellpy\", \"frequency_dictionary_en_82_765.txt\")\n",
    "# Access the dictionary path\n",
    "dictionary_path = pkg_resources.files(\"symspellpy\").joinpath(\"frequency_dictionary_en_82_765.txt\")\n",
    "dictionary_path_str = str(dictionary_path)\n",
    "\n",
    "# Access the bigram path\n",
    "bigram_path = pkg_resources.files(\"symspellpy\").joinpath(\"frequency_bigramdictionary_en_243_342.txt\")\n",
    "bigram_path_str = str(bigram_path)\n",
    "\n",
    "#bigram_path = resources.resource_filename(\n",
    "#symspellpy\", \"frequency_bigramdictionary_en_243_342.txt\")\n",
    "\n",
    "sym_spell.load_dictionary(dictionary_path, term_index=0, count_index=1)\n",
    "\n",
    "sym_spell.load_bigram_dictionary(bigram_path, term_index=0, count_index=2)"
   ]
  },
  {
   "cell_type": "code",
   "execution_count": 9,
   "id": "90b67142-b0d5-4061-8a7e-ef7d17ef0a0b",
   "metadata": {},
   "outputs": [],
   "source": [
    "# Spell Check using Symspell\n",
    "def fix_spelling(text):\n",
    "    suggestions = sym_spell.lookup_compound(text, max_edit_distance=2)\n",
    "    correctedtext = suggestions[0].term # get the first suggestion, otherwise returns original text if nothing is corrected \n",
    "    return correctedtext "
   ]
  },
  {
   "cell_type": "code",
   "execution_count": 10,
   "id": "0f7774fe-03a6-4e7d-80f7-71326578e792",
   "metadata": {},
   "outputs": [],
   "source": [
    "# Remove some important words from stopwords list \n",
    "deselect_stop_words = ['no', 'not']\n",
    "    \n",
    "for w in deselect_stop_words:\n",
    "    nlp.vocab[w].is_stop = False"
   ]
  },
  {
   "cell_type": "code",
   "execution_count": 11,
   "id": "74ddf8f2-f196-402d-9e78-fe8fb05d298a",
   "metadata": {},
   "outputs": [],
   "source": [
    "\n",
    "# Remove extra whitespaces from text\n",
    "def remove_whitespace(text):\n",
    "    text = text.strip()\n",
    "    return \" \".join(text.split())"
   ]
  },
  {
   "cell_type": "code",
   "execution_count": 12,
   "id": "19851fc7-6564-45ce-bf90-14d935348271",
   "metadata": {},
   "outputs": [],
   "source": [
    "# Remove accented characters from text, e.g. café\n",
    "def remove_accented_chars(text):\n",
    "    text = unidecode.unidecode(text)\n",
    "    return text\n"
   ]
  },
  {
   "cell_type": "code",
   "execution_count": 13,
   "id": "d5809ee0-b23c-46ea-b84c-cc2f5837dfba",
   "metadata": {},
   "outputs": [],
   "source": [
    "# Remove URL \n",
    "def remove_url(text):\n",
    "    return re.sub(r'http\\S+', '', text)"
   ]
  },
  {
   "cell_type": "code",
   "execution_count": 14,
   "id": "689e6c41-358c-4a26-b834-28eee547c776",
   "metadata": {},
   "outputs": [],
   "source": [
    "# Removing symbols and digits\n",
    "def remove_symbols_digits(text):\n",
    "    return re.sub('[^a-zA-Z]', ' ', text)"
   ]
  },
  {
   "cell_type": "code",
   "execution_count": 15,
   "id": "3748b4ea-9c9c-4e4d-8f34-4d043e432295",
   "metadata": {},
   "outputs": [],
   "source": [
    "# Removing special characters\n",
    "def remove_special(text):\n",
    "    return text.replace(\"\\r\", \" \").replace(\"\\n\", \" \").replace(\"    \", \" \").replace('\"', '')"
   ]
  },
  {
   "cell_type": "code",
   "execution_count": 16,
   "id": "421104ef-e079-4e04-8d89-4dacae2ad093",
   "metadata": {},
   "outputs": [],
   "source": [
    "# Fix word lengthening (characters are wrongly repeated)\n",
    "def fix_lengthening(text):\n",
    "    pattern = re.compile(r\"(.)\\1{2,}\")\n",
    "    return pattern.sub(r\"\\1\\1\", text)"
   ]
  },
  {
   "cell_type": "code",
   "execution_count": 17,
   "id": "3d64f5f6-3498-437a-af2b-51b021da7a0f",
   "metadata": {},
   "outputs": [],
   "source": [
    "def text_preprocessing(text, accented_chars=True, contractions=True, convert_num=True, \n",
    "                       extra_whitespace=True, lemmatization=True, lowercase=True, \n",
    "                       url=True, symbols_digits=True, special_chars=True, \n",
    "                       stop_words=True, lengthening=True, spelling=True):\n",
    "    \"\"\"preprocess text with default option set to true for all steps\"\"\"\n",
    "    if accented_chars == True: # remove accented characters\n",
    "        text = remove_accented_chars(text)\n",
    "    if contractions == True: # expand contractions\n",
    "        text = contract.fix(text)\n",
    "    if lowercase == True: # convert all characters to lowercase\n",
    "        text = text.lower()\n",
    "    if url == True: # remove URLs before removing symbols \n",
    "        text = remove_url(text)\n",
    "    if symbols_digits == True: # remove symbols and digits\n",
    "        text = remove_symbols_digits(text)\n",
    "    if special_chars == True: # remove special characters\n",
    "        text = remove_special(text)\n",
    "    if extra_whitespace == True: # remove extra whitespaces\n",
    "        text = remove_whitespace(text)\n",
    "    if lengthening == True: # fix word lengthening\n",
    "        text = fix_lengthening(text)\n",
    "    if spelling == True: # fix spelling\n",
    "        text = fix_spelling(text)\n",
    "\n",
    "    doc = nlp(text) # tokenise text\n",
    "\n",
    "    clean_text = []\n",
    "\n",
    "    # return text\n",
    "    \n",
    "    for token in doc:\n",
    "        flag = True\n",
    "        edit = token.text\n",
    "        # remove stop words\n",
    "        if stop_words == True and token.is_stop and token.pos_ != 'NUM': \n",
    "            flag = False\n",
    "        # exclude number words\n",
    "        if convert_num == True and token.pos_ == 'NUM' and flag == True:\n",
    "            flag = False\n",
    "        # convert tokens to base form\n",
    "        elif lemmatization == True and token.lemma_ != \"-PRON-\" and flag == True:\n",
    "            edit = token.lemma_\n",
    "        # append tokens edited and not removed to list \n",
    "        if edit != \"\" and flag == True:\n",
    "            clean_text.append(edit)  \n",
    "    return \" \".join(clean_text)"
   ]
  },
  {
   "cell_type": "code",
   "execution_count": 18,
   "id": "5ad5e3c9-e78d-4f1d-a027-92835096e31a",
   "metadata": {},
   "outputs": [],
   "source": [
    "# Test functions on a subset of 20 rows\n",
    "df['cleaned_text'] = df['text'][:20].apply(lambda row: text_preprocessing(row))\n"
   ]
  },
  {
   "cell_type": "code",
   "execution_count": 19,
   "id": "fff4c4f7-f0d7-4f9c-bd72-0c3367072ae2",
   "metadata": {},
   "outputs": [
    {
     "data": {
      "text/html": [
       "<div>\n",
       "<style scoped>\n",
       "    .dataframe tbody tr th:only-of-type {\n",
       "        vertical-align: middle;\n",
       "    }\n",
       "\n",
       "    .dataframe tbody tr th {\n",
       "        vertical-align: top;\n",
       "    }\n",
       "\n",
       "    .dataframe thead th {\n",
       "        text-align: right;\n",
       "    }\n",
       "</style>\n",
       "<table border=\"1\" class=\"dataframe\">\n",
       "  <thead>\n",
       "    <tr style=\"text-align: right;\">\n",
       "      <th></th>\n",
       "      <th>text</th>\n",
       "      <th>class</th>\n",
       "      <th>cleaned_text</th>\n",
       "    </tr>\n",
       "  </thead>\n",
       "  <tbody>\n",
       "    <tr>\n",
       "      <th>0</th>\n",
       "      <td>Ex Wife Threatening SuicideRecently I left my ...</td>\n",
       "      <td>suicide</td>\n",
       "      <td>sex wife threaten suicide recently leave wife ...</td>\n",
       "    </tr>\n",
       "    <tr>\n",
       "      <th>1</th>\n",
       "      <td>Am I weird I don't get affected by compliments...</td>\n",
       "      <td>non-suicide</td>\n",
       "      <td>weird not affect compliment come know girl fee...</td>\n",
       "    </tr>\n",
       "    <tr>\n",
       "      <th>2</th>\n",
       "      <td>Finally 2020 is almost over... So I can never ...</td>\n",
       "      <td>non-suicide</td>\n",
       "      <td>finally hear bad year swear fucking god annoying</td>\n",
       "    </tr>\n",
       "    <tr>\n",
       "      <th>3</th>\n",
       "      <td>i need helpjust help me im crying so hard</td>\n",
       "      <td>suicide</td>\n",
       "      <td>need help help cry hard</td>\n",
       "    </tr>\n",
       "    <tr>\n",
       "      <th>4</th>\n",
       "      <td>I’m so lostHello, my name is Adam (16) and I’v...</td>\n",
       "      <td>suicide</td>\n",
       "      <td>lose hello adam struggle year afraid past year...</td>\n",
       "    </tr>\n",
       "    <tr>\n",
       "      <th>5</th>\n",
       "      <td>Honetly idkI dont know what im even doing here...</td>\n",
       "      <td>suicide</td>\n",
       "      <td>honestly d not know feel like feel unbearably ...</td>\n",
       "    </tr>\n",
       "    <tr>\n",
       "      <th>6</th>\n",
       "      <td>[Trigger warning] Excuse for self inflicted bu...</td>\n",
       "      <td>suicide</td>\n",
       "      <td>trigger warn excuse self inflict burn know cri...</td>\n",
       "    </tr>\n",
       "    <tr>\n",
       "      <th>7</th>\n",
       "      <td>It ends tonight.I can’t do it anymore. \\nI quit.</td>\n",
       "      <td>suicide</td>\n",
       "      <td>end tonight not anymore quit</td>\n",
       "    </tr>\n",
       "    <tr>\n",
       "      <th>8</th>\n",
       "      <td>Everyone wants to be \"edgy\" and it's making me...</td>\n",
       "      <td>non-suicide</td>\n",
       "      <td>want edgy make self conscious feel like not st...</td>\n",
       "    </tr>\n",
       "    <tr>\n",
       "      <th>9</th>\n",
       "      <td>My life is over at 20 years oldHello all. I am...</td>\n",
       "      <td>suicide</td>\n",
       "      <td>life year old hello year old bald male hairlin...</td>\n",
       "    </tr>\n",
       "    <tr>\n",
       "      <th>10</th>\n",
       "      <td>I took the rest of my sleeping pills and my pa...</td>\n",
       "      <td>suicide</td>\n",
       "      <td>take rest sleeping pill painkiller not wait en...</td>\n",
       "    </tr>\n",
       "    <tr>\n",
       "      <th>11</th>\n",
       "      <td>Can you imagine getting old? Me neither.Wrinkl...</td>\n",
       "      <td>suicide</td>\n",
       "      <td>imagine get old wrinkle weight gain hair loss ...</td>\n",
       "    </tr>\n",
       "    <tr>\n",
       "      <th>12</th>\n",
       "      <td>Do you think getting hit by a train would be p...</td>\n",
       "      <td>suicide</td>\n",
       "      <td>think getting hit train painful gun hard come ...</td>\n",
       "    </tr>\n",
       "    <tr>\n",
       "      <th>13</th>\n",
       "      <td>death, continuedI posted here before and saw s...</td>\n",
       "      <td>suicide</td>\n",
       "      <td>death continued post see interesting ask infor...</td>\n",
       "    </tr>\n",
       "    <tr>\n",
       "      <th>14</th>\n",
       "      <td>Been arrested - feeling suicidalEdit</td>\n",
       "      <td>suicide</td>\n",
       "      <td>arrest feel suicidal edit</td>\n",
       "    </tr>\n",
       "    <tr>\n",
       "      <th>15</th>\n",
       "      <td>Fuck the verizon smart family app I can’t even...</td>\n",
       "      <td>non-suicide</td>\n",
       "      <td>fuck verizon smart family app not watch porn p...</td>\n",
       "    </tr>\n",
       "    <tr>\n",
       "      <th>16</th>\n",
       "      <td>I’m scared.   Everything just seems to be gett...</td>\n",
       "      <td>suicide</td>\n",
       "      <td>scared get bad bad young think transgend not s...</td>\n",
       "    </tr>\n",
       "    <tr>\n",
       "      <th>17</th>\n",
       "      <td>Well, Im screwed. I locked myself in the schoo...</td>\n",
       "      <td>non-suicide</td>\n",
       "      <td>screw lock school toilet not edit live tell story</td>\n",
       "    </tr>\n",
       "    <tr>\n",
       "      <th>18</th>\n",
       "      <td>I'm fucked assignment is due tomorrow and I ha...</td>\n",
       "      <td>non-suicide</td>\n",
       "      <td>fuck assignment tomorrow not start</td>\n",
       "    </tr>\n",
       "    <tr>\n",
       "      <th>19</th>\n",
       "      <td>yeaputting a knife to my wrist didn't give me ...</td>\n",
       "      <td>suicide</td>\n",
       "      <td>yea put knife wrist not hesitation like free f...</td>\n",
       "    </tr>\n",
       "  </tbody>\n",
       "</table>\n",
       "</div>"
      ],
      "text/plain": [
       "                                                 text        class  \\\n",
       "0   Ex Wife Threatening SuicideRecently I left my ...      suicide   \n",
       "1   Am I weird I don't get affected by compliments...  non-suicide   \n",
       "2   Finally 2020 is almost over... So I can never ...  non-suicide   \n",
       "3           i need helpjust help me im crying so hard      suicide   \n",
       "4   I’m so lostHello, my name is Adam (16) and I’v...      suicide   \n",
       "5   Honetly idkI dont know what im even doing here...      suicide   \n",
       "6   [Trigger warning] Excuse for self inflicted bu...      suicide   \n",
       "7    It ends tonight.I can’t do it anymore. \\nI quit.      suicide   \n",
       "8   Everyone wants to be \"edgy\" and it's making me...  non-suicide   \n",
       "9   My life is over at 20 years oldHello all. I am...      suicide   \n",
       "10  I took the rest of my sleeping pills and my pa...      suicide   \n",
       "11  Can you imagine getting old? Me neither.Wrinkl...      suicide   \n",
       "12  Do you think getting hit by a train would be p...      suicide   \n",
       "13  death, continuedI posted here before and saw s...      suicide   \n",
       "14               Been arrested - feeling suicidalEdit      suicide   \n",
       "15  Fuck the verizon smart family app I can’t even...  non-suicide   \n",
       "16  I’m scared.   Everything just seems to be gett...      suicide   \n",
       "17  Well, Im screwed. I locked myself in the schoo...  non-suicide   \n",
       "18  I'm fucked assignment is due tomorrow and I ha...  non-suicide   \n",
       "19  yeaputting a knife to my wrist didn't give me ...      suicide   \n",
       "\n",
       "                                         cleaned_text  \n",
       "0   sex wife threaten suicide recently leave wife ...  \n",
       "1   weird not affect compliment come know girl fee...  \n",
       "2    finally hear bad year swear fucking god annoying  \n",
       "3                             need help help cry hard  \n",
       "4   lose hello adam struggle year afraid past year...  \n",
       "5   honestly d not know feel like feel unbearably ...  \n",
       "6   trigger warn excuse self inflict burn know cri...  \n",
       "7                        end tonight not anymore quit  \n",
       "8   want edgy make self conscious feel like not st...  \n",
       "9   life year old hello year old bald male hairlin...  \n",
       "10  take rest sleeping pill painkiller not wait en...  \n",
       "11  imagine get old wrinkle weight gain hair loss ...  \n",
       "12  think getting hit train painful gun hard come ...  \n",
       "13  death continued post see interesting ask infor...  \n",
       "14                          arrest feel suicidal edit  \n",
       "15  fuck verizon smart family app not watch porn p...  \n",
       "16  scared get bad bad young think transgend not s...  \n",
       "17  screw lock school toilet not edit live tell story  \n",
       "18                 fuck assignment tomorrow not start  \n",
       "19  yea put knife wrist not hesitation like free f...  "
      ]
     },
     "execution_count": 19,
     "metadata": {},
     "output_type": "execute_result"
    }
   ],
   "source": [
    "df[:20]"
   ]
  },
  {
   "cell_type": "code",
   "execution_count": 20,
   "id": "2d4777d5-2a86-4a75-bca7-2a2888d2f2b5",
   "metadata": {},
   "outputs": [],
   "source": [
    "# Apply preprocessing to all data\n",
    "df['cleaned_text'] = df['text'].apply(lambda row: text_preprocessing(row))"
   ]
  },
  {
   "cell_type": "code",
   "execution_count": 21,
   "id": "e71f3eb5-2fc9-4e6a-97c2-f3ad66855ca8",
   "metadata": {},
   "outputs": [],
   "source": [
    "# Export cleaned dataset\n",
    "df.to_csv('suicide_detection_full_cleaned_2.csv', index=False)"
   ]
  },
  {
   "cell_type": "code",
   "execution_count": 22,
   "id": "b1cb2f7e-22e9-4f2e-8c0f-0192164a6e29",
   "metadata": {},
   "outputs": [
    {
     "data": {
      "text/plain": [
       "<bound method NDFrame.describe of                                                      text        class  \\\n",
       "0       Ex Wife Threatening SuicideRecently I left my ...      suicide   \n",
       "1       Am I weird I don't get affected by compliments...  non-suicide   \n",
       "2       Finally 2020 is almost over... So I can never ...  non-suicide   \n",
       "3               i need helpjust help me im crying so hard      suicide   \n",
       "4       I’m so lostHello, my name is Adam (16) and I’v...      suicide   \n",
       "...                                                   ...          ...   \n",
       "232069  If you don't like rock then your not going to ...  non-suicide   \n",
       "232070  You how you can tell i have so many friends an...  non-suicide   \n",
       "232071  pee probably tastes like salty tea😏💦‼️ can som...  non-suicide   \n",
       "232072  The usual stuff you find hereI'm not posting t...      suicide   \n",
       "232073  I still haven't beaten the first boss in Hollo...  non-suicide   \n",
       "\n",
       "                                             cleaned_text  \n",
       "0       sex wife threaten suicide recently leave wife ...  \n",
       "1       weird not affect compliment come know girl fee...  \n",
       "2        finally hear bad year swear fucking god annoying  \n",
       "3                                 need help help cry hard  \n",
       "4       lose hello adam struggle year afraid past year...  \n",
       "...                                                   ...  \n",
       "232069                               not like rock not go  \n",
       "232070  tell friend not lonely deprive buy little nigh...  \n",
       "232071  pee probably taste like salty tea drink pee co...  \n",
       "232072  usual stuff find not post sympathy pity know f...  \n",
       "232073  not beat boss hollow knight fight time die ear...  \n",
       "\n",
       "[232074 rows x 3 columns]>"
      ]
     },
     "execution_count": 22,
     "metadata": {},
     "output_type": "execute_result"
    }
   ],
   "source": [
    "df.describe"
   ]
  },
  {
   "cell_type": "code",
   "execution_count": null,
   "id": "d55c3b32-3f17-4083-9518-14d6858e3f30",
   "metadata": {},
   "outputs": [],
   "source": []
  },
  {
   "cell_type": "code",
   "execution_count": null,
   "id": "26fe0486-94e2-4b9a-bf86-0647f0581f55",
   "metadata": {},
   "outputs": [],
   "source": []
  },
  {
   "cell_type": "code",
   "execution_count": null,
   "id": "baded115-2dcd-4fc2-840a-b8cb67e05977",
   "metadata": {},
   "outputs": [],
   "source": []
  },
  {
   "cell_type": "code",
   "execution_count": null,
   "id": "fbd4f770-179a-41db-a840-63cdf2781aba",
   "metadata": {},
   "outputs": [],
   "source": []
  },
  {
   "cell_type": "code",
   "execution_count": null,
   "id": "8db0b1eb-9d0e-4cfd-b424-802f745d62e0",
   "metadata": {},
   "outputs": [],
   "source": []
  },
  {
   "cell_type": "code",
   "execution_count": null,
   "id": "f35f3723-5daf-47d9-9112-16e1294befd2",
   "metadata": {},
   "outputs": [],
   "source": []
  },
  {
   "cell_type": "code",
   "execution_count": null,
   "id": "03354216-e53d-4d40-8bf2-b04732f609e8",
   "metadata": {},
   "outputs": [],
   "source": []
  },
  {
   "cell_type": "code",
   "execution_count": null,
   "id": "2ad47983-3e6c-489c-bed5-6f52e31691bd",
   "metadata": {},
   "outputs": [],
   "source": []
  },
  {
   "cell_type": "code",
   "execution_count": null,
   "id": "ba964d2e-9e48-438a-84ea-c55352c003ec",
   "metadata": {},
   "outputs": [],
   "source": [
    "#convert the text to vector"
   ]
  },
  {
   "cell_type": "code",
   "execution_count": null,
   "id": "73834e49-29ba-4567-aad7-daa50dd7e351",
   "metadata": {},
   "outputs": [],
   "source": [
    "# pass the text to embedding "
   ]
  },
  {
   "cell_type": "code",
   "execution_count": null,
   "id": "312bd1dd-5caa-4e17-8a84-e97235334e6f",
   "metadata": {},
   "outputs": [],
   "source": [
    "# pass the embedding to lstm / GRU / Transformer"
   ]
  },
  {
   "cell_type": "code",
   "execution_count": null,
   "id": "04a885e2-ccb2-436d-8fbd-dfefc5d7f2f7",
   "metadata": {},
   "outputs": [],
   "source": [
    "import tensorflow as tf"
   ]
  },
  {
   "cell_type": "code",
   "execution_count": null,
   "id": "c70eea02-7d36-4385-8f6c-4c0a31b7fd82",
   "metadata": {},
   "outputs": [],
   "source": [
    "tf.config.list_physical_devices()"
   ]
  },
  {
   "cell_type": "code",
   "execution_count": null,
   "id": "3347dbe7-7364-4d06-a904-9413b8ec20d5",
   "metadata": {},
   "outputs": [],
   "source": [
    "tf.device('/device:GPU:0')"
   ]
  },
  {
   "cell_type": "code",
   "execution_count": null,
   "id": "d802263a-387d-4af0-8a6f-e0112c9c3e14",
   "metadata": {},
   "outputs": [],
   "source": [
    "tf.config.list_physical_devices()"
   ]
  },
  {
   "cell_type": "code",
   "execution_count": null,
   "id": "6d6472f4-5d18-4101-9d9a-11721f6903f0",
   "metadata": {},
   "outputs": [],
   "source": []
  }
 ],
 "metadata": {
  "kernelspec": {
   "display_name": "Python 3 (ipykernel)",
   "language": "python",
   "name": "python3"
  },
  "language_info": {
   "codemirror_mode": {
    "name": "ipython",
    "version": 3
   },
   "file_extension": ".py",
   "mimetype": "text/x-python",
   "name": "python",
   "nbconvert_exporter": "python",
   "pygments_lexer": "ipython3",
   "version": "3.11.0"
  }
 },
 "nbformat": 4,
 "nbformat_minor": 5
}
